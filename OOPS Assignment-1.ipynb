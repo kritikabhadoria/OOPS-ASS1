{
 "cells": [
  {
   "cell_type": "markdown",
   "id": "e9f2808c-180c-44f4-b64f-143946962d90",
   "metadata": {},
   "source": [
    "Q1. Explain Class and Object with respect to Object-Oriented Programming. Give a suitable example."
   ]
  },
  {
   "cell_type": "markdown",
   "id": "89dacbc3-6f84-4a41-8a5d-53fce9a08c8d",
   "metadata": {},
   "source": [
    "Answer - In object-oriented programming (OOP), a class is a blueprint or template that defines the characteristics and behaviors of an object.\n",
    "An object, on the other hand, is an instance of a class."
   ]
  },
  {
   "cell_type": "code",
   "execution_count": 4,
   "id": "8424f8a2-af14-4713-8ef0-3afedaf9932b",
   "metadata": {},
   "outputs": [],
   "source": [
    "class Car:\n",
    "    def __init__(self, color, brand, model):\n",
    "        self.color = color\n",
    "        self.brand = brand\n",
    "        self.model = model\n",
    "        self.speed = 0\n",
    "    \n",
    "    def accelerate(self, increment):\n",
    "        self.speed += increment\n",
    "    \n",
    "    def brake(self, decrement):\n",
    "        self.speed -= decrement\n",
    "    \n",
    "    def change_gear(self, gear):\n",
    "        pass\n",
    "        # code to change the car's gear\n"
   ]
  },
  {
   "cell_type": "code",
   "execution_count": 7,
   "id": "b45d1364-9cb4-4b3a-b94b-b02af42314c1",
   "metadata": {},
   "outputs": [
    {
     "name": "stdout",
     "output_type": "stream",
     "text": [
      "red\n",
      "Toyota\n",
      "Camry\n",
      "20\n",
      "10\n"
     ]
    }
   ],
   "source": [
    "myCar = Car(\"red\", \"Toyota\", \"Camry\")\n",
    "print(myCar.color)  \n",
    "print(myCar.brand)  \n",
    "print(myCar.model)  \n",
    "\n",
    "myCar.accelerate(20)\n",
    "print(myCar.speed)  \n",
    "\n",
    "myCar.brake(10)\n",
    "print(myCar.speed)  \n",
    "\n",
    "myCar.change_gear(3)\n",
    "\n"
   ]
  },
  {
   "cell_type": "markdown",
   "id": "8292f834-25ba-42af-81c5-d4b4dcbe19eb",
   "metadata": {},
   "source": [
    "Q2. Name the four pillars of OOPs."
   ]
  },
  {
   "cell_type": "markdown",
   "id": "f7869363-2d74-40d3-9dff-0638ba72a4dc",
   "metadata": {},
   "source": [
    "Answer - The four pillars of object-oriented programming (OOP) are:\n",
    "1.Encapsulation\n",
    "2.Inheritance\n",
    "3.Polymorphism\n",
    "4.Abstraction"
   ]
  },
  {
   "cell_type": "markdown",
   "id": "b46adf13-9480-4a7d-a225-03f20f365f2b",
   "metadata": {},
   "source": [
    "Q3. Explain why the __init__() function is used. Give a suitable example."
   ]
  },
  {
   "cell_type": "markdown",
   "id": "564c733c-1388-4483-b302-c0fa7e23f324",
   "metadata": {},
   "source": [
    "Answer- The __init__() function is a special method in Python classes that is automatically called when creating\n",
    "an object from the class"
   ]
  },
  {
   "cell_type": "markdown",
   "id": "f9ab3775-7e45-46fc-bd70-85c74af81420",
   "metadata": {},
   "source": [
    "class Person:\n",
    "    def __init__(self, name, age):\n",
    "        self.name = name\n",
    "        self.age = age\n",
    "\n",
    "    def display_info(self):\n",
    "        print(f\"Name: {self.name}, Age: {self.age}\")\n",
    "\n",
    "\n",
    "person1 = Person(\"Nikki\", 25)\n",
    "person2 = Person(\"Ankit\", 30)\n",
    "\n",
    "person1.display_info()  \n",
    "person2.display_info()  \n"
   ]
  },
  {
   "cell_type": "markdown",
   "id": "1bd8a125-f942-4428-bebe-cc8294ff6b68",
   "metadata": {},
   "source": [
    "Q4. Why self is used in OOPs?"
   ]
  },
  {
   "cell_type": "markdown",
   "id": "a7953baf-e1b4-4081-98be-00e2f56204c4",
   "metadata": {},
   "source": [
    "In object-oriented programming (OOP), self is a conventionally used parameter name that represents the instance of a class. It refers to the object itself or the instance on which a method is being called."
   ]
  },
  {
   "cell_type": "code",
   "execution_count": 10,
   "id": "bed83e80-c187-44d9-b35a-4213106fa5f0",
   "metadata": {},
   "outputs": [
    {
     "name": "stdout",
     "output_type": "stream",
     "text": [
      "Hello, my name is Nikki.\n"
     ]
    }
   ],
   "source": [
    "class Person:\n",
    "    def __init__(self, name):\n",
    "        self.name = name\n",
    "\n",
    "    def say_hello(self):\n",
    "        print(f\"Hello, my name is {self.name}.\")\n",
    "\n",
    "\n",
    "person1 = Person(\"Nikki\")\n",
    "person1.say_hello()  \n"
   ]
  },
  {
   "cell_type": "markdown",
   "id": "03309f43-c0a2-4af9-b35e-8e26b217f935",
   "metadata": {},
   "source": [
    "Q5. What is inheritance? Give an example for each type of inheritance."
   ]
  },
  {
   "cell_type": "markdown",
   "id": "3389d88e-eb85-4474-a996-cd579135da32",
   "metadata": {},
   "source": [
    "Inheritance is a fundamental concept in object-oriented programming (OOP) that allows a class to inherit properties and behaviors from another class.\n",
    "There are several types of inheritance relationships:\n",
    "\n",
    "1.Single Inheritance\n",
    "2.Multilevel Inheritance\n",
    "3.Multiple Inheritance\n"
   ]
  },
  {
   "cell_type": "code",
   "execution_count": 11,
   "id": "ccd5bf95-d601-48e5-a556-a0c25f5af13f",
   "metadata": {},
   "outputs": [
    {
     "name": "stdout",
     "output_type": "stream",
     "text": [
      "Eating...\n",
      "Barking...\n"
     ]
    }
   ],
   "source": [
    "#single inheritance\n",
    "class Animal:\n",
    "    def eat(self):\n",
    "        print(\"Eating...\")\n",
    "\n",
    "class Dog(Animal):\n",
    "    def bark(self):\n",
    "        print(\"Barking...\")\n",
    "\n",
    "# Creating objects and invoking methods\n",
    "\n",
    "dog = Dog()\n",
    "dog.eat()  \n",
    "dog.bark() \n",
    "\n"
   ]
  },
  {
   "cell_type": "code",
   "execution_count": 12,
   "id": "289d6124-866f-4771-b5a0-13be0b7cb285",
   "metadata": {},
   "outputs": [
    {
     "name": "stdout",
     "output_type": "stream",
     "text": [
      "Eating...\n",
      "Barking...\n",
      "Guarding...\n"
     ]
    }
   ],
   "source": [
    "#Multilevel Inheritance:\n",
    "class Animal:\n",
    "    def eat(self):\n",
    "        print(\"Eating...\")\n",
    "\n",
    "class Dog(Animal):\n",
    "    def bark(self):\n",
    "        print(\"Barking...\")\n",
    "\n",
    "class Bulldog(Dog):\n",
    "    def guard(self):\n",
    "        print(\"Guarding...\")\n",
    "\n",
    "# Creating objects and invoking methods\n",
    "\n",
    "bulldog = Bulldog()\n",
    "bulldog.eat()  \n",
    "bulldog.bark() \n",
    "bulldog.guard()\n"
   ]
  },
  {
   "cell_type": "code",
   "execution_count": 13,
   "id": "de19c8a9-cefd-4a6e-83fd-0b32c80275e6",
   "metadata": {},
   "outputs": [
    {
     "name": "stdout",
     "output_type": "stream",
     "text": [
      "Flying...\n",
      "Swimming...\n",
      "Quacking...\n"
     ]
    }
   ],
   "source": [
    "#Multiple Inheritance\n",
    "class Flyer:\n",
    "    def fly(self):\n",
    "        print(\"Flying...\")\n",
    "\n",
    "class Swimmer:\n",
    "    def swim(self):\n",
    "        print(\"Swimming...\")\n",
    "\n",
    "class Duck(Flyer, Swimmer):\n",
    "    def quack(self):\n",
    "        print(\"Quacking...\")\n",
    "\n",
    "# Creating objects and invoking methods\n",
    "\n",
    "duck = Duck()\n",
    "duck.fly()  \n",
    "duck.swim()\n",
    "duck.quack()  \n"
   ]
  },
  {
   "cell_type": "code",
   "execution_count": null,
   "id": "77ef4dce-85bb-49bd-ad72-dcd469c74910",
   "metadata": {},
   "outputs": [],
   "source": []
  }
 ],
 "metadata": {
  "kernelspec": {
   "display_name": "Python 3 (ipykernel)",
   "language": "python",
   "name": "python3"
  },
  "language_info": {
   "codemirror_mode": {
    "name": "ipython",
    "version": 3
   },
   "file_extension": ".py",
   "mimetype": "text/x-python",
   "name": "python",
   "nbconvert_exporter": "python",
   "pygments_lexer": "ipython3",
   "version": "3.10.8"
  }
 },
 "nbformat": 4,
 "nbformat_minor": 5
}
